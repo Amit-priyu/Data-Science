{
 "cells": [
  {
   "cell_type": "code",
   "execution_count": 2,
   "metadata": {},
   "outputs": [],
   "source": [
    "# encapsulation and Abstraction...\n",
    "# encapusulation involve bundling data and methods that operate on that data into a single unit.\n",
    "# Abstraction involves hiding complex implementation details and exposing only the necessary  features.\n",
    "\n",
    "\n",
    "# encapsulation-- wrapping of data and methods into a single unit.\n",
    "# handle misue of the data."
   ]
  },
  {
   "cell_type": "code",
   "execution_count": 10,
   "metadata": {},
   "outputs": [
    {
     "name": "stdout",
     "output_type": "stream",
     "text": [
      "Amit\n"
     ]
    },
    {
     "data": {
      "text/plain": [
       "'Amit'"
      ]
     },
     "execution_count": 10,
     "metadata": {},
     "output_type": "execute_result"
    }
   ],
   "source": [
    "# encapsulation with getter and setter.\n",
    "# 3 access modifier variable--- public,private, protected.\n",
    "# private - it can't be accessed outside the class( using getter and setter )\n",
    "# protected -- derived class can access the protected varibale and methods, but not in case of the private access modifider.\n",
    "class Person:\n",
    "    def __init__(self,name,age):\n",
    "        self.name=name    # public variable\n",
    "        self.age=age      # public variable\n",
    "def get_name(person):\n",
    "    return person.name\n",
    "\n",
    "per=Person(\"Amit\",34)\n",
    "print(per.name)\n",
    "get_name(per)\n"
   ]
  },
  {
   "cell_type": "code",
   "execution_count": 19,
   "metadata": {},
   "outputs": [
    {
     "data": {
      "text/plain": [
       "'Amit'"
      ]
     },
     "execution_count": 19,
     "metadata": {},
     "output_type": "execute_result"
    }
   ],
   "source": [
    "class Person:\n",
    "    def __init__(self,name,age,gender):\n",
    "        self.__name=name    # private variable\n",
    "        self.__age=age      # private variable\n",
    "        self.gender=gender  # publci variable\n",
    "def get_name(person):\n",
    "    return person._Person__name\n",
    "per=Person(\"Amit\",21,\"M\")\n",
    "get_name(per)"
   ]
  },
  {
   "cell_type": "code",
   "execution_count": 16,
   "metadata": {},
   "outputs": [
    {
     "data": {
      "text/plain": [
       "['_Person__age',\n",
       " '_Person__name',\n",
       " '__class__',\n",
       " '__delattr__',\n",
       " '__dict__',\n",
       " '__dir__',\n",
       " '__doc__',\n",
       " '__eq__',\n",
       " '__format__',\n",
       " '__ge__',\n",
       " '__getattribute__',\n",
       " '__getstate__',\n",
       " '__gt__',\n",
       " '__hash__',\n",
       " '__init__',\n",
       " '__init_subclass__',\n",
       " '__le__',\n",
       " '__lt__',\n",
       " '__module__',\n",
       " '__ne__',\n",
       " '__new__',\n",
       " '__reduce__',\n",
       " '__reduce_ex__',\n",
       " '__repr__',\n",
       " '__setattr__',\n",
       " '__sizeof__',\n",
       " '__str__',\n",
       " '__subclasshook__',\n",
       " '__weakref__',\n",
       " 'gender']"
      ]
     },
     "execution_count": 16,
     "metadata": {},
     "output_type": "execute_result"
    }
   ],
   "source": [
    "per=Person(\"Amit\",21,\"M\")\n",
    "dir(per)"
   ]
  },
  {
   "cell_type": "code",
   "execution_count": 23,
   "metadata": {},
   "outputs": [
    {
     "name": "stdout",
     "output_type": "stream",
     "text": [
      "Amit\n"
     ]
    }
   ],
   "source": [
    "#  protected variable-- it can be accessed outside the class but only in the derived class.\n",
    "class Person:\n",
    "    def __init__(self,name,age,gender):\n",
    "        self._name=name    # protected variable\n",
    "        self.__age=age      # private variable\n",
    "        self.gender=gender  # publci variable\n",
    "class Employee(Person):\n",
    "    def __init__(self,name,age,gender):\n",
    "        super().__init__(name,age,gender)\n",
    "employee=Employee(\"Amit\",21,\"M\")\n",
    "print(employee._name)"
   ]
  },
  {
   "cell_type": "code",
   "execution_count": 30,
   "metadata": {},
   "outputs": [
    {
     "name": "stdout",
     "output_type": "stream",
     "text": [
      "Amit\n",
      "21\n",
      "25\n",
      "Age can't be negative\n",
      "25\n"
     ]
    }
   ],
   "source": [
    "# encapsulation with getter and setter\n",
    "class Person:\n",
    "    def __init__(self,name,age):\n",
    "        self.__name=name\n",
    "        self.__age=age\n",
    "    def get_name(self):\n",
    "        return self.__name\n",
    "    def set_name(self,name):\n",
    "        self.__name=name\n",
    "    def get_age(self):\n",
    "        return self.__age\n",
    "    def set_age(self,age):\n",
    "        if age>0:\n",
    "            self.__age=age\n",
    "        else:\n",
    "            print(\"Age can't be negative\")       \n",
    "person=Person(\"Amit\",21)\n",
    "# access and modify the private variable.\n",
    "print(person.get_name())\n",
    "print(person.get_age())\n",
    "person.set_age(25)\n",
    "print(person.get_age())\n",
    "person.set_age(-25)\n",
    "print(person.get_age())\n",
    "    "
   ]
  },
  {
   "cell_type": "code",
   "execution_count": null,
   "metadata": {},
   "outputs": [],
   "source": []
  }
 ],
 "metadata": {
  "kernelspec": {
   "display_name": "Python 3",
   "language": "python",
   "name": "python3"
  },
  "language_info": {
   "codemirror_mode": {
    "name": "ipython",
    "version": 3
   },
   "file_extension": ".py",
   "mimetype": "text/x-python",
   "name": "python",
   "nbconvert_exporter": "python",
   "pygments_lexer": "ipython3",
   "version": "3.12.4"
  }
 },
 "nbformat": 4,
 "nbformat_minor": 2
}
