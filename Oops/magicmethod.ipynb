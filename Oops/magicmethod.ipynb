{
 "cells": [
  {
   "cell_type": "code",
   "execution_count": null,
   "metadata": {},
   "outputs": [],
   "source": [
    "# Magic Method:\n",
    "''' \n",
    "Also known as dunder method(double underscore method)- it is special methods that start and end with double undersocres.\n",
    "this methods enables us to define the behaviours of objects for built-in operations,such as arithimatic operations,comparisions,and more.\n",
    "\n",
    "\n",
    "it is predefined method in python that we can override to change the behviour of our objects.\n",
    "some common magic methods:\n",
    "'__init__' new instance of class \n",
    "__str__    return string represnatino of an object.\n",
    "__repr__: return official repo of the string.\n",
    "__len__: returhn the length of the object.\n",
    "__getitem__:get an item from the container\n",
    "__setitem__:set the value of an item in the container \n",
    "'''"
   ]
  },
  {
   "cell_type": "code",
   "execution_count": 2,
   "metadata": {},
   "outputs": [
    {
     "name": "stdout",
     "output_type": "stream",
     "text": [
      "<__main__.Person object at 0x00000270D57FF4D0>\n"
     ]
    }
   ],
   "source": [
    "class Person:\n",
    "    pass\n",
    "person=Person()\n",
    "dir(person)\n",
    "print(person)"
   ]
  },
  {
   "cell_type": "code",
   "execution_count": 3,
   "metadata": {},
   "outputs": [
    {
     "name": "stdout",
     "output_type": "stream",
     "text": [
      "<__main__.Person object at 0x00000270D406A4E0>\n"
     ]
    }
   ],
   "source": [
    "# some basic magic methods\n",
    "class Person:\n",
    "    def __init__(self,name,age):\n",
    "        self.name=name\n",
    "        self.age=age\n",
    "person=Person(\"Amit Priyadarshi\",20)\n",
    "print(person)"
   ]
  },
  {
   "cell_type": "code",
   "execution_count": 3,
   "metadata": {},
   "outputs": [
    {
     "name": "stdout",
     "output_type": "stream",
     "text": [
      "Amit Priyadarshi,20 years old\n",
      "person(name=Amit Priyadarshi,age=20)\n"
     ]
    }
   ],
   "source": [
    "class Person:\n",
    "    def __init__(self,name,age):\n",
    "        self.name=name\n",
    "        self.age=age\n",
    "    def __str__(self):\n",
    "        return f\"{self.name},{self.age} years old\"\n",
    "    def __repr__(self):\n",
    "        return f\"person(name={self.name},age={self.age})\"\n",
    "person=Person(\"Amit Priyadarshi\",20)\n",
    "print(person)\n",
    "print(repr(person))"
   ]
  },
  {
   "cell_type": "code",
   "execution_count": null,
   "metadata": {},
   "outputs": [],
   "source": []
  }
 ],
 "metadata": {
  "kernelspec": {
   "display_name": "Python 3",
   "language": "python",
   "name": "python3"
  },
  "language_info": {
   "codemirror_mode": {
    "name": "ipython",
    "version": 3
   },
   "file_extension": ".py",
   "mimetype": "text/x-python",
   "name": "python",
   "nbconvert_exporter": "python",
   "pygments_lexer": "ipython3",
   "version": "3.12.4"
  }
 },
 "nbformat": 4,
 "nbformat_minor": 2
}
