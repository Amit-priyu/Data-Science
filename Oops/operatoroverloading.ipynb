{
 "cells": [
  {
   "cell_type": "code",
   "execution_count": null,
   "metadata": {},
   "outputs": [],
   "source": [
    "# operator overloading...\n",
    "\n",
    "'''\n",
    "common oprators that can be overloaded are:\n",
    "+  __add__(self, other): add 2 object using the + operator\n",
    "-  __sub__(self, other): subtract 2 object using the - operator\n",
    "*  __mul__(self, other): multiply 2 object using the * operator\n",
    "/  __truediv__(self, other): divide 2 object using the / operator   \n",
    "// __floordiv__(self, other): divide 2 object using the // operator\n",
    "%  __mod__(self, other): get the remainder of 2 object using the % operator\n",
    "** __pow__(self, other): raise an object to the power of another object using the ** operator\n",
    "__eq__(self, other): check if 2 object are equal using the == operator\n",
    "__lt__(self, other): check if an object is less than another object using the < operator\n",
    "gt-greater then.\n",
    "'''"
   ]
  },
  {
   "cell_type": "code",
   "execution_count": 1,
   "metadata": {},
   "outputs": [
    {
     "name": "stdout",
     "output_type": "stream",
     "text": [
      "Vector(5,7)\n"
     ]
    }
   ],
   "source": [
    "class Vector:\n",
    "    def __init__(self,x,y):\n",
    "        self.x=x\n",
    "        self.y=y\n",
    "    def __add__(self,other):\n",
    "        return Vector(self.x+other.x,self.y+other.y)\n",
    "    def __sub__(self,other):\n",
    "        return Vector(self.x-other.x,self.y-other.y)    \n",
    "    def __mul__(self,other):\n",
    "        return Vector(self.x*other.x,self.y*other.y)\n",
    "    def __eq__(self,other):\n",
    "        return self.x==other.x and self.y==other.y\n",
    "    def __repr__(self):\n",
    "        return f\"Vector({self.x},{self.y})\"\n",
    "v1=Vector(2,3)\n",
    "v2=Vector(3,4)\n",
    "print(v1+v2)"
   ]
  },
  {
   "cell_type": "code",
   "execution_count": null,
   "metadata": {},
   "outputs": [],
   "source": [
    "class ComplexNumber:\n",
    "    def __init__(self, real, imag):\n",
    "        self.real = real\n",
    "        self.imag = imag\n",
    "\n",
    "    def __add__(self, other):\n",
    "        if isinstance(other, ComplexNumber):\n",
    "            return ComplexNumber(self.real + other.real, self.imag + other.imag)\n",
    "        raise TypeError(\"Unsupported operand type for +\")\n",
    "\n",
    "    def __sub__(self, other):\n",
    "        if isinstance(other, ComplexNumber):\n",
    "            return ComplexNumber(self.real - other.real, self.imag - other.imag)\n",
    "        raise TypeError(\"Unsupported operand type for -\")\n",
    "\n",
    "    def __mul__(self, other):\n",
    "        if isinstance(other, ComplexNumber):\n",
    "            real_part = self.real * other.real - self.imag * other.imag\n",
    "            imag_part = self.real * other.imag + self.imag * other.real\n",
    "            return ComplexNumber(real_part, imag_part)\n",
    "        raise TypeError(\"Unsupported operand type for *\")\n",
    "\n",
    "    def __truediv__(self, other):\n",
    "        if isinstance(other, ComplexNumber):\n",
    "            denom = other.real ** 2 + other.imag ** 2\n",
    "            if denom == 0:\n",
    "                raise ZeroDivisionError(\"division by zero\")\n",
    "            real_part = (self.real * other.real + self.imag * other.imag) / denom\n",
    "            imag_part = (self.imag * other.real - self.real * other.imag) / denom\n",
    "            return ComplexNumber(real_part, imag_part)\n",
    "        raise TypeError(\"Unsupported operand type for /\")\n",
    "\n",
    "    def __str__(self):\n",
    "        return f\"{self.real} + {self.imag}i\"\n",
    "\n",
    "    def __eq__(self, other):\n",
    "        if isinstance(other, ComplexNumber):\n",
    "            return self.real == other.real and self.imag == other.imag\n",
    "        return False\n",
    "\n",
    "# Example usage\n",
    "if __name__ == \"__main__\":\n",
    "    c1 = ComplexNumber(3, 4)\n",
    "    c2 = ComplexNumber(1, 2)\n",
    "\n",
    "    print(\"c1:\", c1)\n",
    "    print(\"c2:\", c2)\n",
    "\n",
    "    print(\"c1 + c2:\", c1 + c2)\n",
    "    print(\"c1 - c2:\", c1 - c2)\n",
    "    print(\"c1 * c2:\", c1 * c2)\n",
    "    print(\"c1 / c2:\", c1 / c2)\n",
    "    print(\"c1 == c2:\", c1 == c2)\n",
    "    print(\"c1 == ComplexNumber(3, 4):\", c1 == ComplexNumber(3, 4))\n"
   ]
  }
 ],
 "metadata": {
  "kernelspec": {
   "display_name": "Python 3",
   "language": "python",
   "name": "python3"
  },
  "language_info": {
   "codemirror_mode": {
    "name": "ipython",
    "version": 3
   },
   "file_extension": ".py",
   "mimetype": "text/x-python",
   "name": "python",
   "nbconvert_exporter": "python",
   "pygments_lexer": "ipython3",
   "version": "3.12.4"
  }
 },
 "nbformat": 4,
 "nbformat_minor": 2
}
