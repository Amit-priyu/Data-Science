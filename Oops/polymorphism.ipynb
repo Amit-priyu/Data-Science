{
 "cells": [
  {
   "cell_type": "code",
   "execution_count": null,
   "metadata": {},
   "outputs": [],
   "source": []
  },
  {
   "cell_type": "code",
   "execution_count": null,
   "metadata": {},
   "outputs": [],
   "source": [
    "# polymorphism: the ability to treat objects of different classes\n",
    "#               as if they were the same class\n",
    "\n",
    "# Method overriding : it allow a child class to provide a specific implementation of\n",
    "#                     of methods that are already define in its parent class."
   ]
  },
  {
   "cell_type": "code",
   "execution_count": 5,
   "metadata": {},
   "outputs": [
    {
     "name": "stdout",
     "output_type": "stream",
     "text": [
      "woof!\n",
      "meow\n",
      "sound of the animal\n",
      "woof!\n"
     ]
    }
   ],
   "source": [
    "# Base Class\n",
    "class Animal:\n",
    "    def speak(self):\n",
    "        return \"sound of the animal\"\n",
    "# Derived class-1\n",
    "# method overriding ,it allow a child class to provide a specific implementation of methods that are already define in its parent class.\n",
    "class Dog(Animal):\n",
    "    def speak(self):\n",
    "        return \"woof!\"\n",
    "# dervied class-2\n",
    "class Cat(Animal):\n",
    "    def speak(self):\n",
    "        return \"meow\"\n",
    "# function demonstrate polymorphism\n",
    "def animal_speak(animal):\n",
    "    print(animal.speak())\n",
    "dog=Dog()\n",
    "print(dog.speak())\n",
    "cat=Cat()\n",
    "print(cat.speak())\n",
    "animal=Animal()\n",
    "print(animal.speak())   \n",
    "animal_speak(dog)"
   ]
  },
  {
   "cell_type": "code",
   "execution_count": 9,
   "metadata": {},
   "outputs": [
    {
     "name": "stdout",
     "output_type": "stream",
     "text": [
      "200\n",
      "the area  is 200\n",
      "the area  is 78.25\n",
      "78.25\n"
     ]
    }
   ],
   "source": [
    "# polymorphism  with function and methods.\n",
    "# Base class\n",
    "class Shape:\n",
    "    def area(self):\n",
    "        return \"The area of the figure\"\n",
    "# Derived class-1\n",
    "class Rectange(Shape):\n",
    "    def __init__(self,l,b):\n",
    "        self.l=l\n",
    "        self.b=b\n",
    "    def area(self):\n",
    "        return self.l*self.b\n",
    "# Derived class-2\n",
    "class Circle(Shape):\n",
    "    def __init__(self,r):\n",
    "        self.r=r\n",
    "    def area(self):\n",
    "        return 3.13*self.r*self.r\n",
    "# function demonstrate polymorphism\n",
    "def print_area(shape):\n",
    "    print(f\"the area  is {shape.area()}\")\n",
    "rect=Rectange(10,20)\n",
    "cir=Circle(5)\n",
    "print(rect.area())\n",
    "print_area(rect)\n",
    "print_area(cir)\n",
    "print(cir.area())\n"
   ]
  },
  {
   "cell_type": "code",
   "execution_count": 11,
   "metadata": {},
   "outputs": [],
   "source": [
    "# Interfaces: \n",
    "# Abstract Base Calsses\n",
    "# Abstract Base Classes (ABC) are a way to define interfaces in Python.it is used to define a common methods for a group of realted objects."
   ]
  },
  {
   "cell_type": "code",
   "execution_count": 15,
   "metadata": {},
   "outputs": [
    {
     "name": "stdout",
     "output_type": "stream",
     "text": [
      "Car Engine\n",
      "Mototcycle engine\n"
     ]
    }
   ],
   "source": [
    "from abc import ABC,abstractmethod\n",
    "\n",
    "# Abstract Class\n",
    "class Vehicle(ABC):\n",
    "    @abstractmethod\n",
    "    def start_engine(self):\n",
    "        pass\n",
    "    \n",
    "# Derived class-1\n",
    "class Car(Vehicle):\n",
    "    def start_engine(self):\n",
    "        return \"Car Engine\"\n",
    "# Derived class-2\n",
    "class Motorcycle(Vehicle):\n",
    "    def start_engine(self):\n",
    "        return \"Mototcycle engine\"\n",
    "#functions to demonstrate polymorphism.\n",
    "def start_engine(vehicle):\n",
    "    print(vehicle.start_engine())\n",
    "#objects\n",
    "car=Car()\n",
    "motor=Motorcycle()\n",
    "\n",
    "start_engine(car)\n",
    "start_engine(motor)"
   ]
  },
  {
   "cell_type": "code",
   "execution_count": null,
   "metadata": {},
   "outputs": [],
   "source": []
  }
 ],
 "metadata": {
  "kernelspec": {
   "display_name": "Python 3",
   "language": "python",
   "name": "python3"
  },
  "language_info": {
   "codemirror_mode": {
    "name": "ipython",
    "version": 3
   },
   "file_extension": ".py",
   "mimetype": "text/x-python",
   "name": "python",
   "nbconvert_exporter": "python",
   "pygments_lexer": "ipython3",
   "version": "3.12.4"
  }
 },
 "nbformat": 4,
 "nbformat_minor": 2
}
